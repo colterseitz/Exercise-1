{
 "cells": [
  {
   "cell_type": "code",
   "execution_count": 1,
   "metadata": {},
   "outputs": [],
   "source": [
    "ice_cream_rating = 10\n",
    "sleeping_rating = 10"
   ]
  },
  {
   "cell_type": "code",
   "execution_count": 6,
   "metadata": {},
   "outputs": [
    {
     "name": "stdin",
     "output_type": "stream",
     "text": [
      "What is your first name? Colter\n",
      "What is your last name? Seitz\n"
     ]
    },
    {
     "name": "stdout",
     "output_type": "stream",
     "text": [
      "Colter Seitz\n"
     ]
    }
   ],
   "source": [
    "first_name = input('What is your first name?')\n",
    "last_name = input('What is your last name?')\n",
    "my_name = first_name + ' ' + last_name\n",
    "print (my_name)"
   ]
  },
  {
   "cell_type": "code",
   "execution_count": 8,
   "metadata": {},
   "outputs": [
    {
     "name": "stdout",
     "output_type": "stream",
     "text": [
      "10.0\n"
     ]
    }
   ],
   "source": [
    "happiness_rating = (ice_cream_rating + sleeping_rating) / 2\n",
    "happiness_percent = \n",
    "print (happiness_rating)"
   ]
  },
  {
   "cell_type": "code",
   "execution_count": 9,
   "metadata": {},
   "outputs": [
    {
     "name": "stdout",
     "output_type": "stream",
     "text": [
      "<class 'int'>\n",
      "<class 'float'>\n",
      "<class 'str'>\n"
     ]
    }
   ],
   "source": [
    "print (type(ice_cream_rating))\n",
    "print (type(happiness_rating))\n",
    "print (type(first_name))\n"
   ]
  },
  {
   "cell_type": "markdown",
   "metadata": {},
   "source": [
    "yes\n",
    "yes"
   ]
  },
  {
   "cell_type": "code",
   "execution_count": 12,
   "metadata": {},
   "outputs": [
    {
     "name": "stdout",
     "output_type": "stream",
     "text": [
      "My name is Colter and I give eating ice cream a score of 10 out of 10!\n"
     ]
    }
   ],
   "source": [
    "print ('My name is ' + first_name + ' and I give eating ice cream a score of', ice_cream_rating, 'out of 10!')"
   ]
  },
  {
   "cell_type": "code",
   "execution_count": 13,
   "metadata": {},
   "outputs": [
    {
     "name": "stdout",
     "output_type": "stream",
     "text": [
      "I am Colter Seitz and my sleeping enjoyment rating is 10 / 10!\n"
     ]
    }
   ],
   "source": [
    "print ('I am', my_name, 'and my sleeping enjoyment rating is', sleeping_rating, '/ 10!')"
   ]
  },
  {
   "cell_type": "code",
   "execution_count": null,
   "metadata": {},
   "outputs": [],
   "source": [
    "print ('Based on the factors above, my happiness rating is', happiness_rating, 'out of 10, or' 85.0 %!)"
   ]
  }
 ],
 "metadata": {
  "kernelspec": {
   "display_name": "Python 3",
   "language": "python",
   "name": "python3"
  },
  "language_info": {
   "codemirror_mode": {
    "name": "ipython",
    "version": 3
   },
   "file_extension": ".py",
   "mimetype": "text/x-python",
   "name": "python",
   "nbconvert_exporter": "python",
   "pygments_lexer": "ipython3",
   "version": "3.7.8"
  }
 },
 "nbformat": 4,
 "nbformat_minor": 4
}
